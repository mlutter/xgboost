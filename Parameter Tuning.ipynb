{
 "cells": [
  {
   "cell_type": "code",
   "execution_count": 1,
   "metadata": {
    "collapsed": true
   },
   "outputs": [],
   "source": [
    "import xgboost as xgb\n",
    "from sklearn import datasets\n",
    "import matplotlib.pyplot as plt\n",
    "%matplotlib inline\n",
    "import numpy as np"
   ]
  },
  {
   "cell_type": "code",
   "execution_count": 31,
   "metadata": {},
   "outputs": [
    {
     "name": "stdout",
     "output_type": "stream",
     "text": [
      "Regression Score: 0.7993420364006706\n"
     ]
    }
   ],
   "source": [
    "#generate random data with 5 features\n",
    "X,y = datasets.make_regression( n_samples=22000, n_features=5, noise=7, bias=2, random_state=42)\n",
    "y = y**2\n",
    "\n",
    "from sklearn.model_selection import train_test_split\n",
    "X_train, X_test, y_train, y_test = train_test_split(X,y, test_size=0.3, random_state=42)\n",
    "\n",
    "#Create and fit, no parameter tuning\n",
    "regressor = xgb.XGBRegressor(learning_rate=0.01, n_estimators=1000)\n",
    "regressor.fit(X_train,y_train)\n",
    "\n",
    "print(\"Regression Score: {}\".format(regressor.score(X_test, y_test)))"
   ]
  },
  {
   "cell_type": "markdown",
   "metadata": {},
   "source": [
    "## Tune for max_depth and min_child_weight"
   ]
  },
  {
   "cell_type": "code",
   "execution_count": 4,
   "metadata": {},
   "outputs": [
    {
     "name": "stdout",
     "output_type": "stream",
     "text": [
      "Fitting 3 folds for each of 12 candidates, totalling 36 fits\n"
     ]
    },
    {
     "name": "stderr",
     "output_type": "stream",
     "text": [
      "[Parallel(n_jobs=1)]: Done  36 out of  36 | elapsed:   38.5s finished\n"
     ]
    },
    {
     "name": "stdout",
     "output_type": "stream",
     "text": [
      "Best Score: 0.9681491043391203\n",
      "Best Params: {'max_depth': 8, 'min_child_weight': 5}\n"
     ]
    }
   ],
   "source": [
    "#parameter optimization with GridSearchCV\n",
    "from sklearn.model_selection import GridSearchCV\n",
    "\n",
    "\n",
    "#Tune for max_depth and min_child_weight\n",
    "model = xgb.XGBRegressor()\n",
    "clf = GridSearchCV(model, {'max_depth': [2,4,6,8],\n",
    "                    'min_child_weight': range(1,6,2)}, verbose=1)\n",
    "clf.fit(X,y)\n",
    "print(\"Best Score: {}\".format(clf.best_score_))\n",
    "print(\"Best Params: {}\".format(clf.best_params_))"
   ]
  },
  {
   "cell_type": "code",
   "execution_count": 6,
   "metadata": {
    "scrolled": true
   },
   "outputs": [
    {
     "name": "stdout",
     "output_type": "stream",
     "text": [
      "Fitting 3 folds for each of 12 candidates, totalling 36 fits\n"
     ]
    },
    {
     "name": "stderr",
     "output_type": "stream",
     "text": [
      "[Parallel(n_jobs=1)]: Done  36 out of  36 | elapsed:  1.2min finished\n"
     ]
    },
    {
     "name": "stdout",
     "output_type": "stream",
     "text": [
      "Best Score: 0.9689127196193154\n",
      "Best Params: {'max_depth': 12, 'min_child_weight': 5}\n"
     ]
    }
   ],
   "source": [
    "clf = GridSearchCV(model, {'max_depth': [6,8,10,12],\n",
    "                    'min_child_weight': [4,5,6]}, verbose=1)\n",
    "clf.fit(X,y)\n",
    "print(\"Best Score: {}\".format(clf.best_score_))\n",
    "print(\"Best Params: {}\".format(clf.best_params_))"
   ]
  },
  {
   "cell_type": "code",
   "execution_count": 7,
   "metadata": {},
   "outputs": [
    {
     "name": "stdout",
     "output_type": "stream",
     "text": [
      "Fitting 3 folds for each of 6 candidates, totalling 18 fits\n"
     ]
    },
    {
     "name": "stderr",
     "output_type": "stream",
     "text": [
      "[Parallel(n_jobs=1)]: Done  18 out of  18 | elapsed:   55.3s finished\n"
     ]
    },
    {
     "name": "stdout",
     "output_type": "stream",
     "text": [
      "Best Score: 0.9689127196193154\n",
      "Best Params: {'max_depth': 12, 'min_child_weight': 5}\n"
     ]
    }
   ],
   "source": [
    "clf = GridSearchCV(model, {'max_depth': [12,14,16],\n",
    "                    'min_child_weight': [5,6]}, verbose=1)\n",
    "clf.fit(X,y)\n",
    "print(\"Best Score: {}\".format(clf.best_score_))\n",
    "print(\"Best Params: {}\".format(clf.best_params_))"
   ]
  },
  {
   "cell_type": "markdown",
   "metadata": {},
   "source": [
    "## Tune for Gamma"
   ]
  },
  {
   "cell_type": "code",
   "execution_count": 10,
   "metadata": {},
   "outputs": [
    {
     "name": "stdout",
     "output_type": "stream",
     "text": [
      "Fitting 3 folds for each of 5 candidates, totalling 15 fits\n"
     ]
    },
    {
     "name": "stderr",
     "output_type": "stream",
     "text": [
      "[Parallel(n_jobs=1)]: Done  15 out of  15 | elapsed:   41.8s finished\n"
     ]
    },
    {
     "name": "stdout",
     "output_type": "stream",
     "text": [
      "Best Score: 0.9689127196193154\n",
      "Best Params: {'gamma': 0.0}\n"
     ]
    }
   ],
   "source": [
    "#lock in the 12 and 5\n",
    "model = xgb.XGBRegressor(max_depth=12, min_child_weight=5)\n",
    "\n",
    "clf = GridSearchCV(model, {'gamma': [i/10.0 for i in range(0,5)]}, verbose=1)\n",
    "clf.fit(X,y)\n",
    "print(\"Best Score: {}\".format(clf.best_score_))\n",
    "print(\"Best Params: {}\".format(clf.best_params_))"
   ]
  },
  {
   "cell_type": "markdown",
   "metadata": {},
   "source": [
    "## Tune subsample and colsample_bytree"
   ]
  },
  {
   "cell_type": "code",
   "execution_count": 11,
   "metadata": {},
   "outputs": [
    {
     "name": "stdout",
     "output_type": "stream",
     "text": [
      "Fitting 3 folds for each of 16 candidates, totalling 48 fits\n"
     ]
    },
    {
     "name": "stderr",
     "output_type": "stream",
     "text": [
      "[Parallel(n_jobs=1)]: Done  48 out of  48 | elapsed:  1.6min finished\n"
     ]
    },
    {
     "name": "stdout",
     "output_type": "stream",
     "text": [
      "Best Score: 0.9567146215777724\n",
      "Best Params: {'colsample_bytree': 0.8, 'subsample': 0.6}\n"
     ]
    }
   ],
   "source": [
    "#lock in the zero from before\n",
    "model = xgb.XGBRegressor(max_depth=12, min_child_weight=5, gamma=0.0 )\n",
    "\n",
    "clf = GridSearchCV(model, {\n",
    "    'subsample':[i/10.0 for i in range(6,10)],\n",
    "    'colsample_bytree':[i/10.0 for i in range(6,10)]\n",
    "                          }, verbose=1)\n",
    "clf.fit(X,y)\n",
    "print(\"Best Score: {}\".format(clf.best_score_))\n",
    "print(\"Best Params: {}\".format(clf.best_params_))"
   ]
  },
  {
   "cell_type": "code",
   "execution_count": 14,
   "metadata": {},
   "outputs": [
    {
     "name": "stdout",
     "output_type": "stream",
     "text": [
      "Fitting 3 folds for each of 11 candidates, totalling 33 fits\n"
     ]
    },
    {
     "name": "stderr",
     "output_type": "stream",
     "text": [
      "[Parallel(n_jobs=1)]: Done  33 out of  33 | elapsed:   57.3s finished\n"
     ]
    },
    {
     "name": "stdout",
     "output_type": "stream",
     "text": [
      "Best Score: 0.9623377427906697\n",
      "Best Params: {'colsample_bytree': 0.8, 'subsample': 0.2}\n"
     ]
    }
   ],
   "source": [
    "clf = GridSearchCV(model, {\n",
    "    'subsample':[i/10.0 for i in range(0,11)],\n",
    "    'colsample_bytree':[0.8]\n",
    "                          }, verbose=1)\n",
    "clf.fit(X,y)\n",
    "print(\"Best Score: {}\".format(clf.best_score_))\n",
    "print(\"Best Params: {}\".format(clf.best_params_))"
   ]
  },
  {
   "cell_type": "code",
   "execution_count": 15,
   "metadata": {},
   "outputs": [
    {
     "name": "stdout",
     "output_type": "stream",
     "text": [
      "Fitting 3 folds for each of 6 candidates, totalling 18 fits\n"
     ]
    },
    {
     "name": "stderr",
     "output_type": "stream",
     "text": [
      "[Parallel(n_jobs=1)]: Done  18 out of  18 | elapsed:   23.2s finished\n"
     ]
    },
    {
     "name": "stdout",
     "output_type": "stream",
     "text": [
      "Best Score: 0.9623377427906697\n",
      "Best Params: {'colsample_bytree': 0.8, 'subsample': 0.2}\n"
     ]
    }
   ],
   "source": [
    "#zoom in around .2 and .8\n",
    "clf = GridSearchCV(model, {\n",
    "    'subsample':[i/100.0 for i in range(15,25,5)],\n",
    "    'colsample_bytree':[i/100.0 for i in range(75,90,5)]\n",
    "                          }, verbose=1)\n",
    "clf.fit(X,y)\n",
    "print(\"Best Score: {}\".format(clf.best_score_))\n",
    "print(\"Best Params: {}\".format(clf.best_params_))"
   ]
  },
  {
   "cell_type": "code",
   "execution_count": 20,
   "metadata": {},
   "outputs": [
    {
     "name": "stdout",
     "output_type": "stream",
     "text": [
      "Fitting 3 folds for each of 4 candidates, totalling 12 fits\n"
     ]
    },
    {
     "name": "stderr",
     "output_type": "stream",
     "text": [
      "[Parallel(n_jobs=1)]: Done  12 out of  12 | elapsed:   23.1s finished\n"
     ]
    },
    {
     "name": "stdout",
     "output_type": "stream",
     "text": [
      "Best Score: 0.9698820217728594\n",
      "Best Params: {'colsample_bytree': 1, 'subsample': 0.2}\n"
     ]
    }
   ],
   "source": [
    "clf = GridSearchCV(model, {\n",
    "    'subsample':[0.2,1],\n",
    "    'colsample_bytree':[0.8,1]\n",
    "                          }, verbose=1)\n",
    "clf.fit(X,y)\n",
    "print(\"Best Score: {}\".format(clf.best_score_))\n",
    "print(\"Best Params: {}\".format(clf.best_params_))"
   ]
  },
  {
   "cell_type": "markdown",
   "metadata": {},
   "source": [
    "## Tune Regularization"
   ]
  },
  {
   "cell_type": "code",
   "execution_count": 22,
   "metadata": {},
   "outputs": [
    {
     "name": "stdout",
     "output_type": "stream",
     "text": [
      "Fitting 3 folds for each of 5 candidates, totalling 15 fits\n"
     ]
    },
    {
     "name": "stderr",
     "output_type": "stream",
     "text": [
      "[Parallel(n_jobs=1)]: Done  15 out of  15 | elapsed:   22.0s finished\n"
     ]
    },
    {
     "name": "stdout",
     "output_type": "stream",
     "text": [
      "Best Score: 0.970178707074787\n",
      "Best Params: {'reg_alpha': 100}\n"
     ]
    }
   ],
   "source": [
    "#lock in the 1 and 0.2 from before\n",
    "model = xgb.XGBRegressor(max_depth=12, min_child_weight=5, gamma=0.0, colsample_bytree=1, subsample=0.2)\n",
    "\n",
    "clf = GridSearchCV(model, {\n",
    "    'reg_alpha':[1e-5, 1e-2, 0.1, 1, 100]\n",
    "                          }, verbose=1)\n",
    "clf.fit(X,y)\n",
    "print(\"Best Score: {}\".format(clf.best_score_))\n",
    "print(\"Best Params: {}\".format(clf.best_params_))"
   ]
  },
  {
   "cell_type": "markdown",
   "metadata": {},
   "source": [
    "## Reduce learning rate and increase estimators"
   ]
  },
  {
   "cell_type": "code",
   "execution_count": 30,
   "metadata": {},
   "outputs": [
    {
     "name": "stdout",
     "output_type": "stream",
     "text": [
      "Regression Score: 0.9782885672947745\n"
     ]
    }
   ],
   "source": [
    "#lock in the 100 from before\n",
    "regressor = xgb.XGBRegressor(learning_rate=0.01, n_estimators=1000, max_depth=12, min_child_weight=5, gamma=0.0, colsample_bytree=1, subsample=0.2, reg_alpha=100)\n",
    "\n",
    "regressor.fit(X_train,y_train)\n",
    "\n",
    "print(\"Regression Score: {}\".format(regressor.score(X_test, y_test)))"
   ]
  },
  {
   "cell_type": "code",
   "execution_count": null,
   "metadata": {
    "collapsed": true
   },
   "outputs": [],
   "source": []
  }
 ],
 "metadata": {
  "kernelspec": {
   "display_name": "Python [conda env:datacamp]",
   "language": "python",
   "name": "conda-env-datacamp-py"
  },
  "language_info": {
   "codemirror_mode": {
    "name": "ipython",
    "version": 3
   },
   "file_extension": ".py",
   "mimetype": "text/x-python",
   "name": "python",
   "nbconvert_exporter": "python",
   "pygments_lexer": "ipython3",
   "version": "3.5.4"
  }
 },
 "nbformat": 4,
 "nbformat_minor": 2
}
